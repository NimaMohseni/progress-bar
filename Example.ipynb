{
  "nbformat": 4,
  "nbformat_minor": 0,
  "metadata": {
    "colab": {
      "name": "Example.ipynb",
      "provenance": []
    },
    "kernelspec": {
      "name": "python3",
      "display_name": "Python 3"
    },
    "language_info": {
      "name": "python"
    }
  },
  "cells": [
    {
      "cell_type": "code",
      "metadata": {
        "id": "CiDR4oNnyjMW"
      },
      "source": [
        "import time"
      ],
      "execution_count": 1,
      "outputs": []
    },
    {
      "cell_type": "code",
      "metadata": {
        "id": "K56_PH-0AALW",
        "outputId": "c61f8b05-3541-4107-b0e4-ae242b4d9a59",
        "colab": {
          "base_uri": "https://localhost:8080/"
        }
      },
      "source": [
        "!pip install git+https://github.com/NimaMohseni/progress-bar/"
      ],
      "execution_count": 2,
      "outputs": [
        {
          "output_type": "stream",
          "text": [
            "Collecting git+https://github.com/NimaMohseni/progress-bar/\n",
            "  Cloning https://github.com/NimaMohseni/progress-bar/ to /tmp/pip-req-build-a9ws9zzo\n",
            "  Running command git clone -q https://github.com/NimaMohseni/progress-bar/ /tmp/pip-req-build-a9ws9zzo\n",
            "Building wheels for collected packages: progressbar\n",
            "  Building wheel for progressbar (setup.py) ... \u001b[?25l\u001b[?25hdone\n",
            "  Created wheel for progressbar: filename=progressbar-1.0.0-cp37-none-any.whl size=2216 sha256=683de830342ba45092cf8b2bd7a2ea607fc0d1b2d6c110bc33349a726a5f60e6\n",
            "  Stored in directory: /tmp/pip-ephem-wheel-cache-xweyqlfk/wheels/5d/b3/fd/460764fe408d8c6e7b4f36bd38c795ec34bcea4109f8dc2947\n",
            "Successfully built progressbar\n",
            "Installing collected packages: progressbar\n",
            "Successfully installed progressbar-1.0.0\n"
          ],
          "name": "stdout"
        }
      ]
    },
    {
      "cell_type": "code",
      "metadata": {
        "id": "YLWnX-Hnyw-b"
      },
      "source": [
        "from progressbar.function.progb import progressbar"
      ],
      "execution_count": 3,
      "outputs": []
    },
    {
      "cell_type": "code",
      "metadata": {
        "id": "cyergItq9IlR"
      },
      "source": [
        "pr = progressbar()"
      ],
      "execution_count": 4,
      "outputs": []
    },
    {
      "cell_type": "code",
      "metadata": {
        "colab": {
          "base_uri": "https://localhost:8080/"
        },
        "id": "3CO6YEJ0zjml",
        "outputId": "566a6bc8-4ac3-41b0-946e-9cd3f8c407af"
      },
      "source": [
        "for i in range (100):\n",
        "  t1=time.process_time()\n",
        "  t2=time.process_time()\n",
        "  # time.process_time() ignores sleep() therefore, for the sake of making an example I used the while loop\n",
        "  while (t2-t1<0.3):\n",
        "    t2=time.process_time()\n",
        "  pr.prgb(i, 100, bar_length=20)"
      ],
      "execution_count": 5,
      "outputs": [
        {
          "output_type": "stream",
          "text": [
            " evaluating process: |❚❚❚❚❚❚❚❚❚❚❚❚❚❚❚❚➤===| 84.0% ↹avg iteration time↹ : 0.3021 sec, elapsed time 0 : 25, est remainig time 0 : 4 ◓"
          ],
          "name": "stdout"
        }
      ]
    }
  ]
}